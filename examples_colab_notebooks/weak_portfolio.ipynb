{
  "nbformat": 4,
  "nbformat_minor": 0,
  "metadata": {
    "colab": {
      "name": "weak_portfolio.ipynb",
      "provenance": [],
      "authorship_tag": "ABX9TyN/AmrOQNiVCMmnX9sl6IA8",
      "include_colab_link": true
    },
    "kernelspec": {
      "name": "python3",
      "display_name": "Python 3"
    },
    "language_info": {
      "name": "python"
    }
  },
  "cells": [
    {
      "cell_type": "markdown",
      "metadata": {
        "id": "view-in-github",
        "colab_type": "text"
      },
      "source": [
        "<a href=\"https://colab.research.google.com/github/microprediction/precise/blob/main/examples_colab_notebooks/weak_portfolio.ipynb\" target=\"_parent\"><img src=\"https://colab.research.google.com/assets/colab-badge.svg\" alt=\"Open In Colab\"/></a>"
      ]
    },
    {
      "cell_type": "code",
      "execution_count": null,
      "metadata": {
        "id": "Aqj0Tgd8AJ1o"
      },
      "outputs": [],
      "source": [
        "!pip install --upgrade git+https://github.com/microprediction/precise.git"
      ]
    },
    {
      "cell_type": "code",
      "source": [
        "from precise.skaters.covarianceutil.covfunctions import cov_to_corrcoef, weaken_cov\n",
        "from precise.skaters.locationutil.vectorfunctions import normalize\n",
        "from precise.skaters.portfoliostatic.weakport import weak_long_port\n",
        "from precise.skaters.portfoliostatic.unitport import unit_port\n",
        "from precise.skaters.portfoliostatic.weakportfactory import _weak_from_cov\n",
        "import numpy as np\n",
        "from pprint import pprint "
      ],
      "metadata": {
        "id": "8OZ6sfHmBa2B"
      },
      "execution_count": 17,
      "outputs": []
    },
    {
      "cell_type": "markdown",
      "source": [
        "# Weak Portfolios\n",
        "A illustration"
      ],
      "metadata": {
        "id": "LNIaqnfzAbEe"
      }
    },
    {
      "cell_type": "code",
      "source": [
        "cov = np.array([[ 1.09948514, -1.02926114,  0.22402055,  0.10727343],\n",
        "       [-1.02926114,  2.54302628,  1.05338531, -0.12481515],\n",
        "       [ 0.22402055,  1.05338531,  1.79162765, -0.78962956],\n",
        "       [ 0.10727343, -0.12481515, -0.78962956,  0.86316527]])"
      ],
      "metadata": {
        "id": "DiVwHyvBAeup"
      },
      "execution_count": 4,
      "outputs": []
    },
    {
      "cell_type": "code",
      "source": [
        "pprint(cov_to_corrcoef(cov))"
      ],
      "metadata": {
        "colab": {
          "base_uri": "https://localhost:8080/"
        },
        "id": "obMPHjzCArhb",
        "outputId": "de58f98f-2311-4c5c-8305-46967c465555"
      },
      "execution_count": 5,
      "outputs": [
        {
          "output_type": "stream",
          "name": "stdout",
          "text": [
            "array([[ 1.        , -0.61553885,  0.15961338,  0.11011602],\n",
            "       [-0.61553885,  1.        ,  0.49350091, -0.08424515],\n",
            "       [ 0.15961338,  0.49350091,  1.        , -0.63496903],\n",
            "       [ 0.11011602, -0.08424515, -0.63496903,  1.        ]])\n"
          ]
        }
      ]
    },
    {
      "cell_type": "markdown",
      "source": [
        "The minimum variance portfolio with weights summing to unity is well known to be proportional to precision multiplied by a vector of ones.  "
      ],
      "metadata": {
        "id": "zkZIkBF_BiL0"
      }
    },
    {
      "cell_type": "code",
      "source": [
        "pre = np.linalg.inv(cov)\n",
        "w = normalize(np.dot(pre,np.ones(4)))\n",
        "w"
      ],
      "metadata": {
        "colab": {
          "base_uri": "https://localhost:8080/"
        },
        "id": "Q-tSdSJjA55V",
        "outputId": "925281da-f7ca-4f9a-e9d8-e57f4489b4a7"
      },
      "execution_count": 6,
      "outputs": [
        {
          "output_type": "execute_result",
          "data": {
            "text/plain": [
              "array([-9.00833504, -6.87125704,  8.74951879,  8.13007328])"
            ]
          },
          "metadata": {},
          "execution_count": 6
        }
      ]
    },
    {
      "cell_type": "markdown",
      "source": [
        "Of course this is provided:"
      ],
      "metadata": {
        "id": "7KOoxyEgC-tI"
      }
    },
    {
      "cell_type": "code",
      "source": [
        "unit_port(cov)"
      ],
      "metadata": {
        "colab": {
          "base_uri": "https://localhost:8080/"
        },
        "id": "i3HisDFDCVHn",
        "outputId": "5ad899fd-6255-4a7a-b88d-a908dac192de"
      },
      "execution_count": 7,
      "outputs": [
        {
          "output_type": "execute_result",
          "data": {
            "text/plain": [
              "array([-9.00833504, -6.87125704,  8.74951879,  8.13007328])"
            ]
          },
          "metadata": {},
          "execution_count": 7
        }
      ]
    },
    {
      "cell_type": "markdown",
      "source": [
        "This can be dangerous, as you can see by the signs on the weights. Instead we can use: "
      ],
      "metadata": {
        "id": "szjdSAiMB-0Q"
      }
    },
    {
      "cell_type": "code",
      "source": [
        "w1 = weak_long_port(cov=cov)\n",
        "w1"
      ],
      "metadata": {
        "colab": {
          "base_uri": "https://localhost:8080/"
        },
        "id": "a2zHOKXtBol7",
        "outputId": "550442bf-6be4-4139-d13b-c122c60314bb"
      },
      "execution_count": 8,
      "outputs": [
        {
          "output_type": "execute_result",
          "data": {
            "text/plain": [
              "array([0.06561497, 0.        , 0.36417362, 0.57021142])"
            ]
          },
          "metadata": {},
          "execution_count": 8
        }
      ]
    },
    {
      "cell_type": "markdown",
      "source": [
        "This is called a weak portfolio because it is derived in pretty much the same way except that off-diag cov entries of some rows and columns have been multiplied by 0.976"
      ],
      "metadata": {
        "id": "6NNfThu3CQFT"
      }
    },
    {
      "cell_type": "code",
      "source": [
        "dcov = np.diag(np.diag(cov))\n",
        "off_diag_cov = cov-dcov\n",
        "d_weak = 0.976*off_diag_cov + dcov\n",
        "w2 = unit_port(d_weak)\n",
        "w2"
      ],
      "metadata": {
        "id": "gZ8x1HEvEA5r",
        "outputId": "75f82059-71a1-4134-d7dd-7ae30561f7d2",
        "colab": {
          "base_uri": "https://localhost:8080/"
        }
      },
      "execution_count": 27,
      "outputs": [
        {
          "output_type": "execute_result",
          "data": {
            "text/plain": [
              "array([ 0.06744789, -0.00684143,  0.36581249,  0.57358106])"
            ]
          },
          "metadata": {},
          "execution_count": 27
        }
      ]
    },
    {
      "cell_type": "markdown",
      "source": [
        "The \"weak long portfolio\" is then arrived at by removing negative mass and distributing it evenly. \n",
        "\n",
        "Now obviously the question to be asked here is ... why shrink off-diag covariances by 0.976 ?  Well... "
      ],
      "metadata": {
        "id": "UpOTAQ-mG5eX"
      }
    },
    {
      "cell_type": "code",
      "source": [
        "from precise.skaters.covarianceutil.covfunctions import try_invert, weaken_cov\n",
        "from precise.skaters.portfoliostatic.unitportfactory import unitary_from_cov\n",
        "from precise.skaters.portfolioutil.portfunctions import exclude_negative_weights, portfolio_variance\n",
        "\n",
        "import scipy\n",
        "from numpy.linalg import LinAlgError\n",
        "\n",
        "v0 = portfolio_variance(cov=cov,w=w1)\n",
        "\n",
        "def b_objective(u,w,a, v0):\n",
        "    try:\n",
        "        w1 = _weak_from_cov(cov, a=a, b=u[0], w=w, with_weak=False)\n",
        "        v = portfolio_variance(cov=cov, w=exclude_negative_weights(w1))/v0\n",
        "        return v\n",
        "    except LinAlgError:\n",
        "        bad_v = portfolio_variance(cov=cov, w=100*w)\n",
        "        return bad_v"
      ],
      "metadata": {
        "id": "8m-tOGk5G1bH"
      },
      "execution_count": 29,
      "outputs": []
    },
    {
      "cell_type": "code",
      "source": [
        "bs = np.linspace(0,1,100)\n",
        "ys = [ b_objective([b],w1,1,v0) for b in bs ]\n",
        "import matplotlib.pyplot as plt\n",
        "plt.plot(bs,ys)\n",
        "plt.grid()"
      ],
      "metadata": {
        "id": "7OwoI8j5HaOz",
        "outputId": "eccff234-de30-4588-9f41-5c6dd81904c6",
        "colab": {
          "base_uri": "https://localhost:8080/",
          "height": 265
        }
      },
      "execution_count": 32,
      "outputs": [
        {
          "output_type": "display_data",
          "data": {
            "image/png": "[encoded data removed]",
            "text/plain": [
              "<Figure size 432x288 with 1 Axes>"
            ]
          },
          "metadata": {
            "needs_background": "light"
          }
        }
      ]
    },
    {
      "cell_type": "markdown",
      "source": [
        "What we are doing here is computing the portfolio variance of long-only portfolios achieved by shrinking off-diag cov entries and then redistributing negative mass, if any. \n",
        "\n",
        "We choose the shrinkage to minimize the portfolio variance, that is with respect to the original cov not the weakenned one.  "
      ],
      "metadata": {
        "id": "yd03n1JSITmY"
      }
    }
  ]
}
